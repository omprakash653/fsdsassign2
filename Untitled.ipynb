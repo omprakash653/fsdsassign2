{
 "cells": [
  {
   "cell_type": "markdown",
   "id": "bb59ec3c",
   "metadata": {},
   "source": [
    "# Ans1"
   ]
  },
  {
   "cell_type": "code",
   "execution_count": 1,
   "id": "11298198",
   "metadata": {},
   "outputs": [],
   "source": [
    "There are two boolean datatypes 'True' and 'False',and are used to represent logical values in programming.\n",
    "boolean datatypes written as True and False and also we represent it as 1  and 0."
   ]
  },
  {
   "cell_type": "markdown",
   "id": "8eb9d40b",
   "metadata": {},
   "source": [
    "# Ans2"
   ]
  },
  {
   "cell_type": "code",
   "execution_count": 2,
   "id": "e821c896",
   "metadata": {},
   "outputs": [],
   "source": [
    "There are three boolean operator\n",
    "1-\"AND\"\n",
    "2-\"OR\"\n",
    "3-\"NOT\"\n"
   ]
  },
  {
   "cell_type": "markdown",
   "id": "312b4db0",
   "metadata": {},
   "source": [
    "# Ans3"
   ]
  },
  {
   "cell_type": "code",
   "execution_count": 5,
   "id": "993f4a96",
   "metadata": {},
   "outputs": [],
   "source": [
    "1-AND operator\n",
    "| A | B | A & B |\n",
    "|---|---|---------|\n",
    "| 0 | 0 |    0    |\n",
    "| 0 | 1 |    0    |\n",
    "| 1 | 0 |    0    |\n",
    "| 1 | 1 |    1    |\n",
    "\n",
    "2-OR operator\n",
    "\n",
    "| A | B | A | B |\n",
    "|---|---|--------|\n",
    "| 0 | 0 |   0    |\n",
    "| 0 | 1 |   1    |\n",
    "| 1 | 0 |   1    |\n",
    "| 1 | 1 |   1    |\n",
    "\n",
    "3- NOT operator\n",
    "| A | ! A |\n",
    "|---|-------|\n",
    "| 0 |   1   |\n",
    "| 1 |   0   |"
   ]
  },
  {
   "cell_type": "markdown",
   "id": "e4e7b990",
   "metadata": {},
   "source": [
    "# Ans4"
   ]
  },
  {
   "cell_type": "code",
   "execution_count": 6,
   "id": "624cac86",
   "metadata": {},
   "outputs": [],
   "source": [
    "value of (5 > 4) and (3 == 5) will be False\n",
    "value of not (5 > 4) will be False\n",
    "value of (5 >4) or (3 == 5) will be True\n",
    "value of not ((5>4) or (3 == 5)) will be False\n",
    "value of (True and True) and (True == False) will be False\n",
    "value of (not False) or (not True) will be True"
   ]
  },
  {
   "cell_type": "markdown",
   "id": "aefc688a",
   "metadata": {},
   "source": [
    "# Ans5"
   ]
  },
  {
   "cell_type": "code",
   "execution_count": 7,
   "id": "69a54dca",
   "metadata": {},
   "outputs": [],
   "source": [
    "These are the six comparison operators\n",
    "     Name                            Expression\n",
    "1. Equal to                          (==)\n",
    "2. Not equal to                      (!=)\n",
    "3. Greater than                      (>)\n",
    "4. Less than                         (<)\n",
    "5. Greater than or equal to          (>=)\n",
    "6. Less than or equal to             (<=)\n"
   ]
  },
  {
   "cell_type": "markdown",
   "id": "0c7dd04c",
   "metadata": {},
   "source": [
    "# Ans6"
   ]
  },
  {
   "cell_type": "code",
   "execution_count": 8,
   "id": "cfeffff8",
   "metadata": {},
   "outputs": [],
   "source": [
    "# In Python, the equal to operator is \"==\", while the assignment operator is \"=\". \n",
    "# The equal to operator is used to compare two values for equality, while the assignment\n",
    "# operator is used to assign a value to a variable.\n",
    "# Ex- x = 5\n",
    "#     y = 7\n",
    "#     if x == y:\n",
    "#         print(\"x is equal to y\")\n",
    "#     else:\n",
    "#         print(\"x is not equal to y\")\n",
    "        \n",
    "# x=5 it assigning the value\n",
    "# x==y its comparing"
   ]
  },
  {
   "cell_type": "markdown",
   "id": "e82c1c5a",
   "metadata": {},
   "source": [
    "# Ans7"
   ]
  },
  {
   "cell_type": "code",
   "execution_count": 9,
   "id": "13a6cb44",
   "metadata": {},
   "outputs": [
    {
     "name": "stdout",
     "output_type": "stream",
     "text": [
      "ham\n",
      "spam\n",
      "spam\n"
     ]
    }
   ],
   "source": [
    "spam=0\n",
    "if spam == 10:\n",
    "    print('eggs')\n",
    "if spam> 5:\n",
    "    print('bacon')\n",
    "else:\n",
    "    print('ham')\n",
    "    print('spam')\n",
    "    print('spam')"
   ]
  },
  {
   "cell_type": "code",
   "execution_count": 10,
   "id": "65b10460",
   "metadata": {},
   "outputs": [],
   "source": [
    "1st if block will not be execute beacuse spam!=10\n",
    "2nd if block will not be also execute beacuse spam is not greater 5\n",
    "so it will execute else block beacuse if is False"
   ]
  },
  {
   "cell_type": "markdown",
   "id": "7aa0410b",
   "metadata": {},
   "source": [
    "# Ans8"
   ]
  },
  {
   "cell_type": "code",
   "execution_count": 11,
   "id": "ed6464f3",
   "metadata": {},
   "outputs": [
    {
     "name": "stdout",
     "output_type": "stream",
     "text": [
      "Hello\n"
     ]
    }
   ],
   "source": [
    "spam = 1\n",
    "\n",
    "if spam == 1:\n",
    "    print(\"Hello\")\n",
    "elif spam == 2:\n",
    "    print(\"Howdy\")\n",
    "else:\n",
    "    print(\"Greetings!\")"
   ]
  },
  {
   "cell_type": "code",
   "execution_count": 12,
   "id": "d5b0d390",
   "metadata": {},
   "outputs": [
    {
     "name": "stdout",
     "output_type": "stream",
     "text": [
      "Howdy\n"
     ]
    }
   ],
   "source": [
    "spam = 2\n",
    "\n",
    "if spam == 1:\n",
    "    print(\"Hello\")\n",
    "elif spam == 2:\n",
    "    print(\"Howdy\")\n",
    "else:\n",
    "    print(\"Greetings!\")"
   ]
  },
  {
   "cell_type": "code",
   "execution_count": 13,
   "id": "f55bf2c6",
   "metadata": {},
   "outputs": [
    {
     "name": "stdout",
     "output_type": "stream",
     "text": [
      "Greetings!\n"
     ]
    }
   ],
   "source": [
    "spam = 3\n",
    "\n",
    "if spam == 1:\n",
    "    print(\"Hello\")\n",
    "elif spam == 2:\n",
    "    print(\"Howdy\")\n",
    "else:\n",
    "    print(\"Greetings!\")"
   ]
  },
  {
   "cell_type": "markdown",
   "id": "5692960d",
   "metadata": {},
   "source": [
    "# Ans9"
   ]
  },
  {
   "cell_type": "code",
   "execution_count": 14,
   "id": "40be5c3c",
   "metadata": {},
   "outputs": [],
   "source": [
    "# i will press \"Ctrl + C\" to stop that."
   ]
  },
  {
   "cell_type": "markdown",
   "id": "acdc01c6",
   "metadata": {},
   "source": [
    "# Ans10"
   ]
  },
  {
   "cell_type": "code",
   "execution_count": 15,
   "id": "621ef986",
   "metadata": {},
   "outputs": [],
   "source": [
    "# Break- \"Break\" is used to terminate a loop\n",
    "# continue-  \"continue\" is used to skip the current iteration of a loop and move on to the next iteration."
   ]
  },
  {
   "cell_type": "markdown",
   "id": "3df28353",
   "metadata": {},
   "source": [
    "# Ans11"
   ]
  },
  {
   "cell_type": "code",
   "execution_count": 16,
   "id": "5a5b1210",
   "metadata": {},
   "outputs": [],
   "source": [
    "# There are not any different between these three statements \n",
    "# these will run 0 to 9."
   ]
  },
  {
   "cell_type": "markdown",
   "id": "710a9a47",
   "metadata": {},
   "source": [
    "# Ans12"
   ]
  },
  {
   "cell_type": "code",
   "execution_count": 17,
   "id": "7f8c50d9",
   "metadata": {},
   "outputs": [
    {
     "name": "stdout",
     "output_type": "stream",
     "text": [
      "1\n",
      "2\n",
      "3\n",
      "4\n",
      "5\n",
      "6\n",
      "7\n",
      "8\n",
      "9\n",
      "10\n"
     ]
    }
   ],
   "source": [
    "for i in range(1,11):\n",
    "    print(i)"
   ]
  },
  {
   "cell_type": "code",
   "execution_count": 18,
   "id": "c566e85e",
   "metadata": {},
   "outputs": [
    {
     "name": "stdout",
     "output_type": "stream",
     "text": [
      "1\n",
      "2\n",
      "3\n",
      "4\n",
      "5\n",
      "6\n",
      "7\n",
      "8\n",
      "9\n",
      "10\n"
     ]
    }
   ],
   "source": [
    "i=0\n",
    "while i<10:\n",
    "    i=i+1\n",
    "    print(i)\n",
    "    "
   ]
  },
  {
   "cell_type": "code",
   "execution_count": 19,
   "id": "b2afc28d",
   "metadata": {},
   "outputs": [],
   "source": [
    "If we have a function named bacon() inside a module named spam, \n",
    "we can call it after importing spam using the dot notation.\n",
    "\n",
    "EX\n",
    "import spam\n",
    "\n",
    "spam.bacon()"
   ]
  },
  {
   "cell_type": "code",
   "execution_count": null,
   "id": "54a21490",
   "metadata": {},
   "outputs": [],
   "source": []
  },
  {
   "cell_type": "code",
   "execution_count": null,
   "id": "1426a4dd",
   "metadata": {},
   "outputs": [],
   "source": []
  }
 ],
 "metadata": {
  "kernelspec": {
   "display_name": "Python 3 (ipykernel)",
   "language": "python",
   "name": "python3"
  },
  "language_info": {
   "codemirror_mode": {
    "name": "ipython",
    "version": 3
   },
   "file_extension": ".py",
   "mimetype": "text/x-python",
   "name": "python",
   "nbconvert_exporter": "python",
   "pygments_lexer": "ipython3",
   "version": "3.11.1"
  }
 },
 "nbformat": 4,
 "nbformat_minor": 5
}
